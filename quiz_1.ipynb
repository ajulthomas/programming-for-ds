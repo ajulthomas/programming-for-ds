{
 "cells": [
  {
   "cell_type": "code",
   "execution_count": 62,
   "id": "4c61d601-fd0c-4baf-b987-077a448bc8fe",
   "metadata": {},
   "outputs": [
    {
     "name": "stdout",
     "output_type": "stream",
     "text": [
      "exam_1.167\n"
     ]
    }
   ],
   "source": [
    "x='{0:_^5}'.format('exam')\n",
    "y='{0:.3f}'.format(7/6)\n",
    "print(x+y)"
   ]
  },
  {
   "cell_type": "code",
   "execution_count": 30,
   "id": "566d779d-9571-443e-99f3-911f348c21ee",
   "metadata": {},
   "outputs": [
    {
     "data": {
      "text/plain": [
       "'-123    '"
      ]
     },
     "execution_count": 30,
     "metadata": {},
     "output_type": "execute_result"
    }
   ],
   "source": [
    "'{0:<+8d}'.format(-123)"
   ]
  },
  {
   "cell_type": "code",
   "execution_count": 9,
   "id": "8c4774d7-e09b-4af0-937b-db905bb94ec2",
   "metadata": {},
   "outputs": [
    {
     "name": "stdout",
     "output_type": "stream",
     "text": [
      "5 > 4\n"
     ]
    }
   ],
   "source": [
    "x = 5\n",
    "y = 4\n",
    "if x > y:\n",
    "    print('5 > 4')\n",
    "elif x < y:\n",
    "    print('5 < 4')\n",
    "else:\n",
    "    print('5 == 4')\n"
   ]
  },
  {
   "cell_type": "code",
   "execution_count": 10,
   "id": "38a3e177-fa41-4e9e-a09f-977e8098be38",
   "metadata": {},
   "outputs": [
    {
     "ename": "TypeError",
     "evalue": "'list' object cannot be interpreted as an integer",
     "output_type": "error",
     "traceback": [
      "\u001b[1;31m---------------------------------------------------------------------------\u001b[0m",
      "\u001b[1;31mTypeError\u001b[0m                                 Traceback (most recent call last)",
      "Cell \u001b[1;32mIn[10], line 2\u001b[0m\n\u001b[0;32m      1\u001b[0m mylist \u001b[38;5;241m=\u001b[39m [\u001b[38;5;241m2\u001b[39m,\u001b[38;5;241m4\u001b[39m,\u001b[38;5;241m6\u001b[39m,\u001b[38;5;241m8\u001b[39m]\n\u001b[1;32m----> 2\u001b[0m \u001b[38;5;28;01mfor\u001b[39;00m x \u001b[38;5;129;01min\u001b[39;00m \u001b[38;5;28;43mrange\u001b[39;49m\u001b[43m(\u001b[49m\u001b[43mmylist\u001b[49m\u001b[43m)\u001b[49m:\n\u001b[0;32m      3\u001b[0m     \u001b[38;5;28mprint\u001b[39m(x)\n\u001b[0;32m      4\u001b[0m \u001b[38;5;28;01melse\u001b[39;00m:\n",
      "\u001b[1;31mTypeError\u001b[0m: 'list' object cannot be interpreted as an integer"
     ]
    }
   ],
   "source": [
    "mylist = [2,4,6,8]\n",
    "for x in range(mylist):\n",
    "    print(x)\n",
    "else:\n",
    "    print('the for loop is over')\n"
   ]
  },
  {
   "cell_type": "code",
   "execution_count": 2,
   "id": "0807922f-aff7-436f-bd25-3244319c8ab7",
   "metadata": {},
   "outputs": [
    {
     "name": "stdout",
     "output_type": "stream",
     "text": [
      "python and data science in 2019\n"
     ]
    }
   ],
   "source": [
    "a, b, c, d = 'python', 'data', 'science', 2019\n",
    "print(a,'and',b,c,'in',d)"
   ]
  },
  {
   "cell_type": "code",
   "execution_count": 33,
   "id": "8bfeaff5-6203-4d93-b721-77fc17c4aaa1",
   "metadata": {},
   "outputs": [
    {
     "data": {
      "text/plain": [
       "'p'"
      ]
     },
     "execution_count": 33,
     "metadata": {},
     "output_type": "execute_result"
    }
   ],
   "source": [
    "'python'[0]"
   ]
  },
  {
   "cell_type": "code",
   "execution_count": null,
   "id": "5e6130b8-38b6-41fd-8bf8-bb2ae9765501",
   "metadata": {},
   "outputs": [],
   "source": []
  },
  {
   "cell_type": "code",
   "execution_count": null,
   "id": "7f6306f7-6f05-4af4-92c1-c5734a70cb88",
   "metadata": {},
   "outputs": [],
   "source": []
  },
  {
   "cell_type": "code",
   "execution_count": 46,
   "id": "61056812-b0ac-427d-9137-bf3696f56efa",
   "metadata": {},
   "outputs": [
    {
     "name": "stdout",
     "output_type": "stream",
     "text": [
      "divide and floor : 2\n"
     ]
    }
   ],
   "source": [
    "s1 = 'divide'\n",
    "s2 = 'floor'\n",
    "x1=5\n",
    "x2=2\n",
    "print(s1,'and',s2,':',x1//x2)"
   ]
  },
  {
   "cell_type": "code",
   "execution_count": 47,
   "id": "10cc79ce-a8bc-4d69-a6a0-82ca0d194575",
   "metadata": {},
   "outputs": [
    {
     "name": "stdout",
     "output_type": "stream",
     "text": [
      "3000\n"
     ]
    }
   ],
   "source": [
    "x = 0\n",
    "while x <= 2019:\n",
    "    x += 1000\n",
    "else:\n",
    "    print(x)"
   ]
  },
  {
   "cell_type": "code",
   "execution_count": 48,
   "id": "c0717342-c56a-4485-a421-4a29c458e446",
   "metadata": {},
   "outputs": [
    {
     "ename": "SyntaxError",
     "evalue": "invalid syntax (4208764817.py, line 1)",
     "output_type": "error",
     "traceback": [
      "\u001b[1;36m  Cell \u001b[1;32mIn[48], line 1\u001b[1;36m\u001b[0m\n\u001b[1;33m    print(\"Data Science\"):\u001b[0m\n\u001b[1;37m                         ^\u001b[0m\n\u001b[1;31mSyntaxError\u001b[0m\u001b[1;31m:\u001b[0m invalid syntax\n"
     ]
    }
   ],
   "source": [
    "print(\"Data Science\"):"
   ]
  },
  {
   "cell_type": "code",
   "execution_count": 51,
   "id": "aea05a50-6079-402c-91d7-c423b86aa9b5",
   "metadata": {},
   "outputs": [
    {
     "data": {
      "text/plain": [
       "'P'"
      ]
     },
     "execution_count": 51,
     "metadata": {},
     "output_type": "execute_result"
    }
   ],
   "source": [
    "\"Python\"[0]"
   ]
  },
  {
   "cell_type": "code",
   "execution_count": 54,
   "id": "d5ca7030-8d60-4a93-b6c6-2b378cf1936d",
   "metadata": {},
   "outputs": [
    {
     "name": "stdout",
     "output_type": "stream",
     "text": [
      "1\n",
      "1\n",
      "1\n"
     ]
    }
   ],
   "source": [
    "for x in [1, 2, 3]:\n",
    "    print(1)"
   ]
  },
  {
   "cell_type": "code",
   "execution_count": 55,
   "id": "286a68f7-c895-4069-b94e-6403a925f239",
   "metadata": {},
   "outputs": [
    {
     "name": "stdout",
     "output_type": "stream",
     "text": [
      "Mark = 88 and grade = HD\n"
     ]
    }
   ],
   "source": [
    "mark = 88\n",
    "grade = 'HD'\n",
    "print(f'Mark = {mark} and grade = {grade}')"
   ]
  },
  {
   "cell_type": "code",
   "execution_count": 56,
   "id": "e718d009-48a1-464b-9e3f-02f79295bbe7",
   "metadata": {},
   "outputs": [
    {
     "name": "stdout",
     "output_type": "stream",
     "text": [
      "My mark = {mark} and my grade = {grade}\n"
     ]
    }
   ],
   "source": [
    "mark = 65\n",
    "grade = \"CR\"\n",
    "print('My mark = {mark} and my grade = {grade}')"
   ]
  },
  {
   "cell_type": "code",
   "execution_count": 57,
   "id": "2eb66e72-7066-4493-a396-8c3507f62df8",
   "metadata": {},
   "outputs": [
    {
     "ename": "SyntaxError",
     "evalue": "expected ':' (1140131928.py, line 5)",
     "output_type": "error",
     "traceback": [
      "\u001b[1;36m  Cell \u001b[1;32mIn[57], line 5\u001b[1;36m\u001b[0m\n\u001b[1;33m    else if x < y:\u001b[0m\n\u001b[1;37m         ^\u001b[0m\n\u001b[1;31mSyntaxError\u001b[0m\u001b[1;31m:\u001b[0m expected ':'\n"
     ]
    }
   ],
   "source": [
    "x = 5\n",
    "y = 4\n",
    "if x > y:\n",
    "    print('5 > 4')\n",
    "else if x < y:\n",
    "    print('5 < 4')\n",
    "else:\n",
    "    print('5 == 4')"
   ]
  },
  {
   "cell_type": "code",
   "execution_count": 59,
   "id": "5732e0a5-c5a4-45ad-a681-2c011aa2aeb4",
   "metadata": {},
   "outputs": [
    {
     "ename": "TypeError",
     "evalue": "'list' object cannot be interpreted as an integer",
     "output_type": "error",
     "traceback": [
      "\u001b[1;31m---------------------------------------------------------------------------\u001b[0m",
      "\u001b[1;31mTypeError\u001b[0m                                 Traceback (most recent call last)",
      "Cell \u001b[1;32mIn[59], line 2\u001b[0m\n\u001b[0;32m      1\u001b[0m mylist \u001b[38;5;241m=\u001b[39m [\u001b[38;5;241m2\u001b[39m, \u001b[38;5;241m4\u001b[39m, \u001b[38;5;241m6\u001b[39m, \u001b[38;5;241m8\u001b[39m]\n\u001b[1;32m----> 2\u001b[0m \u001b[38;5;28;01mfor\u001b[39;00m x \u001b[38;5;129;01min\u001b[39;00m \u001b[38;5;28;43mrange\u001b[39;49m\u001b[43m(\u001b[49m\u001b[43mmylist\u001b[49m\u001b[43m)\u001b[49m:\n\u001b[0;32m      3\u001b[0m     \u001b[38;5;28mprint\u001b[39m(x)\n\u001b[0;32m      4\u001b[0m \u001b[38;5;28;01melse\u001b[39;00m:\n",
      "\u001b[1;31mTypeError\u001b[0m: 'list' object cannot be interpreted as an integer"
     ]
    }
   ],
   "source": [
    "mylist = [2, 4, 6, 8]\n",
    "for x in range(mylist):\n",
    "    print(x)\n",
    "else:\n",
    "    print('The for loop is over')"
   ]
  },
  {
   "cell_type": "code",
   "execution_count": 60,
   "id": "ed33de53-d07a-4004-abe7-f9b326ccc355",
   "metadata": {},
   "outputs": [
    {
     "name": "stdout",
     "output_type": "stream",
     "text": [
      "s1 = Your mark is 99\n",
      "s2 = Your mark is 99\n"
     ]
    }
   ],
   "source": [
    "s = \"Hi there!\"\n",
    "#define function \n",
    "def get_mark(m):\n",
    "    global s\n",
    "    s = 'Your mark is ' + str(m)\n",
    "    print('s1 = ' + s)\n",
    "    return s\n",
    "# end of function\n",
    "get_mark(99)\n",
    "print('s2 = ' + s)"
   ]
  },
  {
   "cell_type": "code",
   "execution_count": 3,
   "id": "be2ffbf3-a653-447f-af69-a5cca258142c",
   "metadata": {},
   "outputs": [
    {
     "name": "stdin",
     "output_type": "stream",
     "text": [
      "Enter a number: 5\n",
      "Enter a number: 6\n",
      "Enter a number: 7\n",
      "Enter a number: 10\n",
      "Enter a number: 11\n"
     ]
    }
   ],
   "source": [
    "while True:\n",
    "    x = int(input(\"Enter a number:\"))\n",
    "    if(x > 10):\n",
    "        break"
   ]
  },
  {
   "cell_type": "code",
   "execution_count": 6,
   "id": "3edc3112-7d5c-4c14-aa65-3f3515238ca0",
   "metadata": {},
   "outputs": [
    {
     "ename": "TypeError",
     "evalue": "'float' object cannot be interpreted as an integer",
     "output_type": "error",
     "traceback": [
      "\u001b[1;31m---------------------------------------------------------------------------\u001b[0m",
      "\u001b[1;31mTypeError\u001b[0m                                 Traceback (most recent call last)",
      "Cell \u001b[1;32mIn[6], line 1\u001b[0m\n\u001b[1;32m----> 1\u001b[0m \u001b[38;5;28;01mfor\u001b[39;00m x \u001b[38;5;129;01min\u001b[39;00m \u001b[38;5;28;43mrange\u001b[39;49m\u001b[43m(\u001b[49m\u001b[38;5;241;43m1.\u001b[39;49m\u001b[43m,\u001b[49m\u001b[38;5;241;43m3\u001b[39;49m\u001b[43m)\u001b[49m:\n\u001b[0;32m      2\u001b[0m     \u001b[38;5;28mprint\u001b[39m(x)\n",
      "\u001b[1;31mTypeError\u001b[0m: 'float' object cannot be interpreted as an integer"
     ]
    }
   ],
   "source": [
    "for x in range(1.,3):\n",
    "    print(x)"
   ]
  },
  {
   "cell_type": "code",
   "execution_count": 15,
   "id": "38940d88-46ab-4576-bdb6-0ccd4007fde0",
   "metadata": {},
   "outputs": [
    {
     "data": {
      "text/plain": [
       "[1, 3, 5, 7, 8]"
      ]
     },
     "execution_count": 15,
     "metadata": {},
     "output_type": "execute_result"
    }
   ],
   "source": [
    "my_list = [1,3,5,7,8]\n",
    "my_list.sort()\n",
    "my_list"
   ]
  }
 ],
 "metadata": {
  "kernelspec": {
   "display_name": "Python 3 (ipykernel)",
   "language": "python",
   "name": "python3"
  },
  "language_info": {
   "codemirror_mode": {
    "name": "ipython",
    "version": 3
   },
   "file_extension": ".py",
   "mimetype": "text/x-python",
   "name": "python",
   "nbconvert_exporter": "python",
   "pygments_lexer": "ipython3",
   "version": "3.11.4"
  }
 },
 "nbformat": 4,
 "nbformat_minor": 5
}
