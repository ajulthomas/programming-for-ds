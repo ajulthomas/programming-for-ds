{
 "cells": [
  {
   "cell_type": "markdown",
   "metadata": {},
   "source": [
    "# Week 10 Tutorial - Pandas and Scikit-learn Packages\n",
    "\n",
    "Total mark for assessment: 3%. Complete and submit all questions: 2%, and lab attendance: 1%. Submit after 23:59 (midnight): -0.5% and -0.5% for each day after. \n",
    "\n",
    "## Objectives\n",
    "* To use Pandas for database and data manipulation\n",
    "* To use Scikit-learn for classification in machine learning\n",
    "## Pandas Package\n",
    "* Create a new Python project and name it PandasScikitlearn.\n",
    "* You will work on this online CSV file https://raw.github.com/neurospin/pystatsml/master/datasets/salary_table.csv . Have a look at the data in this file on a web browser.\n",
    "\n",
    "## Example 1: Read data from that CSV file\n",
    "* Check if Pandas is available in Python Environments in your project. Install it if it is not.\n",
    "* Enter the following to the PandasDatabase.py file to use Pandas "
   ]
  },
  {
   "source": [
    "import pandas as pd\n",
    "\n",
    "#Example 1: Read data from an online CSV file.\n",
    "\n",
    "url = 'https://raw.github.com/neurospin/pystatsml/master/datasets/salary_table.csv'\n",
    "salary = pd.read_csv(url)\n",
    "print(salary)"
   ],
   "cell_type": "code",
   "metadata": {},
   "execution_count": null,
   "outputs": []
  },
  {
   "cell_type": "markdown",
   "metadata": {},
   "source": [
    "## Example 2: Change the order of columns in the salary table"
   ]
  },
  {
   "cell_type": "code",
   "execution_count": null,
   "metadata": {},
   "outputs": [],
   "source": [
    "#Example 2: Change the order of columns in the salary table\n",
    "cols = ['education', 'experience', 'management', 'salary']\n",
    "salary2 = salary[cols] # or salary2 = salary.loc[:, cols]\n",
    "print(salary2)"
   ]
  },
  {
   "cell_type": "markdown",
   "metadata": {},
   "source": [
    "## Example 3: Filter the salary table"
   ]
  },
  {
   "cell_type": "code",
   "execution_count": null,
   "metadata": {},
   "outputs": [],
   "source": [
    "#Example 3: Select rows for Master\n",
    "rows = salary['education']=='Master'\n",
    "master_salary = salary[rows] # or master_salary = salary.loc[rows, :]\n",
    "print(master_salary)"
   ]
  },
  {
   "source": [
    "## Example 4: Select rows and columns for Bachelor\n",
    "* You output the data for Bachelor only and do not print the education column. There are 3 options to output the same result. Add the following code example to do that.\n",
    "\n",
    "* The three outputs have the same result:\n",
    "\n",
    "![](T10-Ex4.png)"
   ],
   "cell_type": "markdown",
   "metadata": {}
  },
  {
   "cell_type": "code",
   "execution_count": null,
   "metadata": {},
   "outputs": [],
   "source": [
    "#Example 4: Select rows and columns for Bachelor\n",
    "rows = salary['education']=='Bachelor'\n",
    "cols = ['experience', 'management', 'salary']\n",
    "\n",
    "print('1. Select rows then cols:')\n",
    "salary_rows = salary[rows]\n",
    "salary_rows_cols = salary_rows[cols]\n",
    "print(salary_rows_cols)\n",
    "\n",
    "print('2. Select rows and cols:')\n",
    "salary_rows_cols = salary[rows][cols]\n",
    "print(salary_rows_cols)\n",
    "\n",
    "print('3. Use loc function:')\n",
    "salary_loc = salary.loc[rows, cols]\n",
    "print(salary_loc)"
   ]
  },
  {
   "cell_type": "markdown",
   "metadata": {},
   "source": [
    "## Example 5: Sort the salary table\n",
    "* You sort the data in salary table by education then salary in descending order. Add the following code example to do that"
   ]
  },
  {
   "cell_type": "code",
   "execution_count": null,
   "metadata": {},
   "outputs": [],
   "source": [
    "#Example 5: Sort the salary table\n",
    "sorted_salary = salary.sort_values(by=['education', 'salary'], ascending=False)\n",
    "print(sorted_salary)"
   ]
  },
  {
   "cell_type": "markdown",
   "metadata": {},
   "source": [
    "## Example 6: Output to a CSV file\n",
    "* You output the sorted list to a CSV file then open that CSV file to read data in. Use the following code example.\n",
    "\n",
    "* Run the project. The output would be the same as that in Example 5. \n",
    "\n",
    "* Below is part of the data in that CSV file:\n",
    "\n",
    "![](T10-Ex6.png)"
   ]
  },
  {
   "cell_type": "code",
   "execution_count": null,
   "metadata": {},
   "outputs": [],
   "source": [
    "#Example 6: Output data to a CSV file\n",
    "import tempfile, os.path\n",
    "\n",
    "tmpdir = tempfile.gettempdir()\n",
    "csv_filename = os.path.join(tmpdir, \"sorted_salary.csv\")\n",
    "print(tmpdir)\n",
    "\n",
    "sorted_salary.to_csv(csv_filename, index=False)\n",
    "input_csv = pd.read_csv(csv_filename)\n",
    "print(input_csv)"
   ]
  },
  {
   "cell_type": "markdown",
   "metadata": {},
   "source": [
    "## Example 7: Output to an Excel file\n",
    "* You output the sorted list to an Excel file then open that Excel file to read data in. Use the following code example:\n",
    "\n",
    "* Run the project. The output would be the same as that in Example 5.\n",
    "\n",
    "* Below is part of the data in that CSV file:\n",
    "\n",
    "![](T10-Ex6.png)\n"
   ]
  },
  {
   "cell_type": "code",
   "execution_count": null,
   "metadata": {},
   "outputs": [],
   "source": [
    "#Example 7: Output data to a Excel file\n",
    "import tempfile, os.path\n",
    "\n",
    "tmpdir = tempfile.gettempdir()\n",
    "excel_filename = os.path.join(tmpdir, \"salary.xlsx\")\n",
    "print(tmpdir)\n",
    "\n",
    "sorted_salary.to_excel(excel_filename, sheet_name='Sorted salary', index=False)\n",
    "input_excel = pd.read_excel(excel_filename)\n",
    "print(input_excel)"
   ]
  },
  {
   "cell_type": "markdown",
   "metadata": {},
   "source": [
    "## Question 1: Output data. \n",
    "* Output data in the sorted salary table to an Excel file in 3 sheets for Ph.D, Master and Bachelor.\n",
    "\n",
    "* Write a program that outputs data from sorted salary in Example 5 to an Excel file named salary3.xlsx. This file has 3 sheets and the sheet names are Ph.D, Master and Bachelor. The data in the sheet name Ph.D are for PhD only and presented in 3 columns experience, management and salary. The same requirement for the data in two sheets for Master and Bachelor. \n",
    "\n",
    "* You also need to open this Excel file and read data from the 3 sheets in and output data to screen as seen in the screenshots below."
   ]
  },
  {
   "cell_type": "code",
   "execution_count": null,
   "metadata": {},
   "outputs": [],
   "source": [
    "#Question 1:\n",
    "\n"
   ]
  },
  {
   "cell_type": "markdown",
   "metadata": {},
   "source": [
    "## Question 2: Output data in the sorted salary table to an SQLite database file.\n",
    "* Write a program that reads data from the sorted_salary.csv file in Example 6 and outputs these data to an SQLite database file named salary.db. You also write code to open this database file and reads data in and output the data on screen."
   ]
  },
  {
   "cell_type": "code",
   "execution_count": null,
   "metadata": {},
   "outputs": [],
   "source": [
    "#Question 1:\n",
    "\n",
    ":\n",
    "\n"
   ]
  },
  {
   "cell_type": "markdown",
   "metadata": {},
   "source": [
    "## Scikit-learn package\n",
    "* Scikit-learn provides simple and efficient tools for predictive data analysis\n",
    "* Scikit-learn provides built-in estimators or classifiers (machine learning techniques and models) that can be fitted to some data using its fit method.\n",
    "* Once the estimator is fitted, you can use it for predicting target values of unknown data samples without re-training the estimator.\n",
    "## Load Iris dataset\n",
    "* Add the following line to have modules in scikit-learn package "
   ]
  },
  {
   "cell_type": "code",
   "execution_count": null,
   "metadata": {},
   "outputs": [],
   "source": [
    "from sklearn import datasets, neighbors, metrics, svm\n",
    "from sklearn.model_selection import train_test_split\n",
    "import matplotlib.pyplot as plt"
   ]
  },
  {
   "source": [
    "•\tAdd the following line to get iris dataset"
   ],
   "cell_type": "markdown",
   "metadata": {}
  },
  {
   "cell_type": "code",
   "execution_count": null,
   "metadata": {},
   "outputs": [],
   "source": [
    "#Load data set\n",
    "dataset = datasets.load_iris()\n",
    "print(dataset)"
   ]
  },
  {
   "source": [
    "•\tRun your program to see what is included in the iris dataset. You will only need to get data (data samples in an np-array), target (class index of data samples in a list), and target_names (class names or class labels in a list). Add the following code and run to output them."
   ],
   "cell_type": "markdown",
   "metadata": {}
  },
  {
   "cell_type": "code",
   "execution_count": null,
   "metadata": {},
   "outputs": [],
   "source": [
    "X = dataset.data\n",
    "print('Array of data samples:')\n",
    "print(X)\n",
    "print()\n",
    "\n",
    "n_samples, n_features = X.shape\n",
    "print('Number of data samples: ', n_samples)\n",
    "print('Dimensionality (Number of features): ', n_features)\n",
    "print()\n",
    "\n",
    "y = dataset.target\n",
    "print('True class index of data samples:')\n",
    "print(y)\n",
    "print()\n",
    "\n",
    "class_names = dataset.target_names\n",
    "print('Array of class names:', class_names)\n",
    "print('Number of classes:', len(class_names))\n",
    "print()"
   ]
  },
  {
   "source": [
    "•\tYou will split the dataset into training set and testing set using train_test_split function. Add the following code and run"
   ],
   "cell_type": "markdown",
   "metadata": {}
  },
  {
   "cell_type": "code",
   "execution_count": null,
   "metadata": {},
   "outputs": [],
   "source": [
    "#Split dataset into training and testing sets\n",
    "X_train, X_test, y_train, y_test = train_test_split(X, y, test_size=0.25, random_state=0)\n",
    "print(X_train)\n",
    "print()\n",
    "print(X_test)\n",
    "print()\n",
    "print(y_train)\n",
    "print()\n",
    "print(y_test)\n",
    "print()"
   ]
  },
  {
   "source": [
    "`test_size=0.2` means 25% data samples are in testing set (X_test) and 75% data samples are in training set (`X_train`). The same is applied to `y_train` and `y_test` lists comparing with the y list. \n",
    "\n",
    "`random_state=0` is to have the same data in `X_train, X_test, y_train, y_test` every time you run your program. To have different data for each run change to large number, for example `random_state=42`. "
   ],
   "cell_type": "markdown",
   "metadata": {}
  },
  {
   "source": [
    "### Load classifier (machine learning technique and model) for training and testing  \n",
    "•\tAdd a classifier (machine learning technique and model) to your program"
   ],
   "cell_type": "markdown",
   "metadata": {}
  },
  {
   "cell_type": "code",
   "execution_count": null,
   "metadata": {},
   "outputs": [],
   "source": [
    "#Load classifier containing classification technique and model\n",
    "classifier = neighbors.KNeighborsClassifier(n_neighbors=3)"
   ]
  },
  {
   "source": [
    "If `n_neighbors=1` this `KNeighborsClassifier` will be the nearest neighbour classifier you implemented in Assignment 1.\n",
    "\n",
    "•\tNow you use y_train to train the classifier and use y_test to test that classifier. Add the following code to do that\n"
   ],
   "cell_type": "markdown",
   "metadata": {}
  },
  {
   "cell_type": "code",
   "execution_count": null,
   "metadata": {},
   "outputs": [],
   "source": [
    "#Training\n",
    "classifier.fit(X_train, y_train)\n",
    "\n",
    "#Testing\n",
    "y_pred = classifier.predict(X_test)\n",
    "print(y_pred)"
   ]
  },
  {
   "source": [
    "### Output confusion matrix  \n",
    "•\tThe confusion_matrix function is used to evaluate classification accuracy of a classifier. Add the following code and run to plot confusion matrix. "
   ],
   "cell_type": "markdown",
   "metadata": {}
  },
  {
   "cell_type": "code",
   "execution_count": null,
   "metadata": {},
   "outputs": [],
   "source": [
    "#Plot confusion matrix\n",
    "metrics.plot_confusion_matrix(classifier, X_test, y_test, display_labels=class_names) \n",
    "plt.show()  "
   ]
  },
  {
   "source": [
    "![](T10-ClassiferOut.png) \n",
    "\n",
    "•\tNumbers in the plot are numbers of samples classified (predicted) for each class. For example, number 1 in the plot shows there is 1 sample of versicolor that is incorrectly classified as virgina.\n",
    "\n",
    "### Change parameter and classifier\n",
    "\n",
    "•\tChange parameter: replace n_neighbors=3 with n_neighbors=1 then run your program again. Compare numbers in the confusion matrix with the numbers when you run your program with n_neighbors=3.\n",
    "\n",
    "•\tChange classifier: replace the line \n",
    "\n",
    "`classifier = neighbors.KNeighborsClassifier(n_neighbors=1)`\n",
    "\n",
    "with\n",
    "\n",
    "`classifier = svm.SVC(gamma=0.5)`\n",
    "\n",
    "to use Support Vector Machine classifier then run your program.\n",
    "\n",
    "•\tChange parameter: replace gamma=0.5 with gamma=0.1 then run your program again. Compare numbers in the confusion matrix with the numbers when you run your program with gamma=0.5.\n",
    "\n",
    "### Classification accuracy\n",
    "•\tChange dataset back to Iris\n",
    "\n",
    "`dataset = datasets.load_iris()`\n",
    "\n",
    "and change classifier back to K-Neighbour classifier\n",
    "\n",
    "`classifier = neighbors.KNeighborsClassifier(n_neighbors=3)`\n",
    "\n",
    "•\tUse print(y_pred) and print(y_test) to print out values. Below are their values (the first line is from y_pred)\n",
    "\n",
    "`[2 1 0 2 0 2 0 1 1 1 2 1 1 1 1 0 1 1 0 0 2 1 0 0 2 0 0 1 1 0 2 1 0 2 2 1 0 2]\n",
    "\n",
    "[2 1 0 2 0 2 0 1 1 1 2 1 1 1 1 0 1 1 0 0 2 1 0 0 2 0 0 1 1 0 2 1 0 2 2 1 0 1]`\n",
    "\n",
    "•\tThe y_test list contains indices of true classes (0 for Setosa, 1 for Versicolour and 2 for Virginica). The y_pred list contains indices of predicted classes. Compare these values you will see that only the last number (2) in y_pred is different from the last index in y_test (1). This means that the last data sample in X_test having true class 1 (Versicolour) is correctly classified as 2 (Virginica). Using the following\n",
    "\n",
    "`accuracy (in %) = 100% * number of correctly classified samples in y_predict / number of all samples in y_predict`\n",
    "\n",
    "you will have the `accuracy = 100% *  37 / 38 = 97.37%`"
   ],
   "cell_type": "markdown",
   "metadata": {}
  },
  {
   "cell_type": "markdown",
   "metadata": {},
   "source": [
    "## Question 3:  \n",
    "* Write a function to calculate classification accuracy using true class index list in y_test and predicted class index list in y_pred. The function is as follows "
   ]
  },
  {
   "cell_type": "code",
   "execution_count": null,
   "metadata": {},
   "outputs": [],
   "source": [
    "#############################################\n",
    "def get_accuracy(true_list, predicted_list):\n",
    "\n",
    "    #add your code here to calculate accuracy\n",
    "\n",
    "    return #accuracy in %\n",
    "#############################################"
   ]
  },
  {
   "cell_type": "markdown",
   "metadata": {},
   "source": [
    "* After you finish implementing the function, add the following to call the function to get the accuracy\n"
   ]
  },
  {
   "cell_type": "code",
   "execution_count": null,
   "metadata": {},
   "outputs": [],
   "source": [
    "accuracy = get_accuracy(y_test, y_pred)\n",
    "print('Accuracy: ' + str(accuracy) + '%')"
   ]
  },
  {
   "cell_type": "markdown",
   "metadata": {},
   "source": [
    "* You will get the output Accuracy: 97.36842105263158%. Change parameter and classifier to get accuracy of each case."
   ]
  }
 ],
 "metadata": {
  "kernelspec": {
   "name": "Python 3.8.3 64-bit",
   "display_name": "Python 3.8.3 64-bit",
   "metadata": {
    "interpreter": {
     "hash": "b3ba2566441a7c06988d0923437866b63cedc61552a5af99d1f4fb67d367b25f"
    }
   }
  },
  "language_info": {
   "codemirror_mode": {
    "name": "ipython",
    "version": 3
   },
   "file_extension": ".py",
   "mimetype": "text/x-python",
   "name": "python",
   "nbconvert_exporter": "python",
   "pygments_lexer": "ipython3",
   "version": "3.8.3-final"
  }
 },
 "nbformat": 4,
 "nbformat_minor": 2
}