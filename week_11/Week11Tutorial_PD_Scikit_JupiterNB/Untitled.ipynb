{
 "cells": [
  {
   "cell_type": "code",
   "execution_count": 3,
   "id": "f873ecbf-39c0-4689-ac6a-9a3d1fe1a8bb",
   "metadata": {},
   "outputs": [
    {
     "name": "stdout",
     "output_type": "stream",
     "text": [
      "List of Tuples:\n",
      "[(1, 'a'), (2, 'b'), (3, 'c'), (4, 'd')]\n",
      "\n",
      "Count of Unique Tuples:\n",
      "0    4\n",
      "1    4\n",
      "dtype: int64\n"
     ]
    }
   ],
   "source": [
    "import pandas as pd\n",
    "\n",
    "list1 = [1, 2, 3, 4]\n",
    "list2 = ['a', 'b', 'c', 'd']\n",
    "\n",
    "# Combine the two lists into a list of tuples\n",
    "list_of_tuples = list(zip(list1, list2))\n",
    "\n",
    "# Convert the list of tuples into a DataFrame\n",
    "df = pd.DataFrame(list_of_tuples)\n",
    "\n",
    "# Count the unique tuples in the DataFrame\n",
    "unique_count = df.nunique()\n",
    "\n",
    "# Print the list of tuples and the count of unique tuples\n",
    "print(\"List of Tuples:\")\n",
    "print(list_of_tuples)\n",
    "print(\"\\nCount of Unique Tuples:\")\n",
    "print(unique_count)"
   ]
  }
 ],
 "metadata": {
  "kernelspec": {
   "display_name": "Python 3 (ipykernel)",
   "language": "python",
   "name": "python3"
  },
  "language_info": {
   "codemirror_mode": {
    "name": "ipython",
    "version": 3
   },
   "file_extension": ".py",
   "mimetype": "text/x-python",
   "name": "python",
   "nbconvert_exporter": "python",
   "pygments_lexer": "ipython3",
   "version": "3.11.4"
  }
 },
 "nbformat": 4,
 "nbformat_minor": 5
}
