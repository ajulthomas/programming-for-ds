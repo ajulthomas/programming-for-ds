{
 "cells": [
  {
   "cell_type": "markdown",
   "id": "01a93075-f113-48ab-b8cd-0ba6310213e0",
   "metadata": {},
   "source": [
    "# Week 3 Lecture\n",
    "author: ajul.thomas@outlook.com\n",
    "date: 16-08-2023\n",
    "lecturer: Dr. Ram Subramaniam\n",
    "\n",
    "### if, else, elif\n",
    "\n",
    "### Loops\n",
    "\n",
    "### Break, Continue\n",
    "\n",
    "### range, not in, and, \n",
    "\n",
    "### functions\n",
    "\n",
    "### try, except, finally"
   ]
  },
  {
   "cell_type": "code",
   "execution_count": 5,
   "id": "1c3dd4ae-47d6-4789-aab9-2b3e7dfc018e",
   "metadata": {},
   "outputs": [
    {
     "name": "stdout",
     "output_type": "stream",
     "text": [
      "Zero, Odd, Even, Odd, Even, Odd, Even, Odd, Even, Odd, "
     ]
    }
   ],
   "source": [
    "# Program 1\n",
    "\n",
    "for i in range(0,10):\n",
    "    if i==0:\n",
    "        print(\"Zero\", sep=\", \", end=\", \")\n",
    "    elif i%2 == 0:\n",
    "        print(\"Even\", sep=\", \", end=\", \")\n",
    "    else:\n",
    "        print(\"Odd\", sep=\", \", end=\", \")\n"
   ]
  },
  {
   "cell_type": "code",
   "execution_count": 9,
   "id": "41b729f2-253b-46a9-bdb0-07d63fa60670",
   "metadata": {},
   "outputs": [
    {
     "name": "stdin",
     "output_type": "stream",
     "text": [
      "Do you want to continue ? (y/n) \n",
      " y\n"
     ]
    },
    {
     "name": "stdout",
     "output_type": "stream",
     "text": [
      "user opted to continue\n"
     ]
    },
    {
     "name": "stdin",
     "output_type": "stream",
     "text": [
      "Do you want to continue ? (y/n) \n",
      " n\n"
     ]
    },
    {
     "name": "stdout",
     "output_type": "stream",
     "text": [
      "user opted to continue\n",
      "user opted not to continue\n"
     ]
    }
   ],
   "source": [
    "# Program 2\n",
    "user_input = 'y'\n",
    "while user_input == 'y':\n",
    "    user_input = input(\"Do you want to continue ? (y/n) \\n\")\n",
    "    print(\"user opted to continue\")\n",
    "\n",
    "print(\"user opted not to continue\")\n"
   ]
  },
  {
   "cell_type": "code",
   "execution_count": 18,
   "id": "581baa43-92cf-4cab-8607-6ec46eefef90",
   "metadata": {},
   "outputs": [
    {
     "name": "stdout",
     "output_type": "stream",
     "text": [
      "your grade is HD\n",
      "sum of 5 and 25 is 30\n"
     ]
    }
   ],
   "source": [
    "# program \n",
    "\n",
    "def get_grades():\n",
    "    return \"your grade is HD\"\n",
    "\n",
    "print(get_grades())\n",
    "\n",
    "def add(a, b):\n",
    "    return a+b\n",
    "    \n",
    "print(f'sum of 5 and 25 is {add(5,25)}')\n",
    "\n"
   ]
  },
  {
   "cell_type": "code",
   "execution_count": 19,
   "id": "7a43686c-8da3-425a-a91f-2c5ff31ea0f4",
   "metadata": {},
   "outputs": [
    {
     "name": "stdout",
     "output_type": "stream",
     "text": [
      "Your mark is 99\n"
     ]
    }
   ],
   "source": [
    "# program\n",
    "\n",
    "def get_mark(mark):\n",
    "    return f'Your mark is {mark}'\n",
    "\n",
    "print(get_mark(99))"
   ]
  },
  {
   "cell_type": "markdown",
   "id": "920e722e-287a-4547-8002-2549dc4e55bb",
   "metadata": {},
   "source": [
    "\n",
    "### Scoping in Python\n",
    "\n",
    "- global scope\n",
    "- local scope"
   ]
  },
  {
   "cell_type": "code",
   "execution_count": 22,
   "id": "cc3d6b6e-7e76-44e0-809f-c152794af3fa",
   "metadata": {},
   "outputs": [
    {
     "name": "stdout",
     "output_type": "stream",
     "text": [
      "S1 = Your mark is 99\n",
      "S2 = Your mark is 99\n"
     ]
    }
   ],
   "source": [
    "\n",
    "s = \"Hi, there\"\n",
    "\n",
    "def get_mark(m):\n",
    "    # global s\n",
    "    s = 'Your mark is ' + str(m)\n",
    "    print('S1 = '+ s)\n",
    "    return s\n",
    "\n",
    "get_mark(99)\n",
    "print('S2 = ' + s)\n"
   ]
  }
 ],
 "metadata": {
  "kernelspec": {
   "display_name": "Python 3 (ipykernel)",
   "language": "python",
   "name": "python3"
  },
  "language_info": {
   "codemirror_mode": {
    "name": "ipython",
    "version": 3
   },
   "file_extension": ".py",
   "mimetype": "text/x-python",
   "name": "python",
   "nbconvert_exporter": "python",
   "pygments_lexer": "ipython3",
   "version": "3.11.4"
  }
 },
 "nbformat": 4,
 "nbformat_minor": 5
}
