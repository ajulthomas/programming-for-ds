{
 "cells": [
  {
   "cell_type": "code",
   "execution_count": 50,
   "metadata": {},
   "outputs": [
    {
     "name": "stdout",
     "output_type": "stream",
     "text": [
      "exam_1.167\n"
     ]
    }
   ],
   "source": [
    "xx='{0:_^5}'.format('exam')\n",
    "yy='{0:.3f}'.format(7/6)\n",
    "x= [xx]\n",
    "y= [yy]\n",
    "z = xx+yy\n",
    "print(z)"
   ]
  },
  {
   "cell_type": "code",
   "execution_count": 51,
   "metadata": {},
   "outputs": [
    {
     "name": "stdout",
     "output_type": "stream",
     "text": [
      "Enter a negative number or 0 to exit: -2\n",
      "The number is  -2\n",
      "Enter a negative number or 0 to exit: 2\n",
      "The number must be negative\n",
      "Enter a negative number or 0 to exit: 0\n",
      "Done\n"
     ]
    }
   ],
   "source": [
    "while True:\n",
    "    x = int(input('Enter a negative number or 0 to exit: '))\n",
    "    if x == 0:\n",
    "        break\n",
    "    elif x > 0:\n",
    "        print('The number must be negative')\n",
    "        continue\n",
    "    print('The number is ', x)\n",
    "print('Done')    \n",
    "        "
   ]
  },
  {
   "cell_type": "code",
   "execution_count": 56,
   "metadata": {},
   "outputs": [
    {
     "name": "stdout",
     "output_type": "stream",
     "text": [
      "python and data science in 2019\n"
     ]
    }
   ],
   "source": [
    "a, b, c, d = 'python', 'data', 'science', 2019\n",
    "print(a, 'and', b, c, 'in', d)\n"
   ]
  },
  {
   "cell_type": "code",
   "execution_count": 57,
   "metadata": {},
   "outputs": [
    {
     "name": "stdout",
     "output_type": "stream",
     "text": [
      "divide and floor : 2\n"
     ]
    }
   ],
   "source": [
    "s1 = 'divide'\n",
    "s2 = 'floor'\n",
    "x1 = 5\n",
    "x2 = 2\n",
    "print(s1, 'and', s2, ':', x1 // x2)"
   ]
  },
  {
   "cell_type": "code",
   "execution_count": 58,
   "metadata": {},
   "outputs": [
    {
     "name": "stdout",
     "output_type": "stream",
     "text": [
      "Enter a positive number : 2\n",
      "The number is 2\n",
      "Enter a positive number : 0\n",
      "Done\n"
     ]
    }
   ],
   "source": [
    "while True:\n",
    "    x = int(input('Enter a positive number : '))\n",
    "    if x == 0:\n",
    "        break\n",
    "    elif x < 0:\n",
    "        print('The number must be positive')\n",
    "        continue\n",
    "    print('The number is', x)\n",
    "print('Done')"
   ]
  },
  {
   "cell_type": "code",
   "execution_count": 65,
   "metadata": {},
   "outputs": [
    {
     "name": "stdout",
     "output_type": "stream",
     "text": [
      "3000\n"
     ]
    }
   ],
   "source": [
    "x = 0\n",
    "while x <= 2019:\n",
    "    x += 1000\n",
    "else:\n",
    "    print(x)"
   ]
  },
  {
   "cell_type": "code",
   "execution_count": 67,
   "metadata": {},
   "outputs": [
    {
     "ename": "SyntaxError",
     "evalue": "invalid syntax (<ipython-input-67-4da8be4aee21>, line 1)",
     "output_type": "error",
     "traceback": [
      "\u001b[1;36m  File \u001b[1;32m\"<ipython-input-67-4da8be4aee21>\"\u001b[1;36m, line \u001b[1;32m1\u001b[0m\n\u001b[1;33m    print(\"Data Science\"):\u001b[0m\n\u001b[1;37m                          ^\u001b[0m\n\u001b[1;31mSyntaxError\u001b[0m\u001b[1;31m:\u001b[0m invalid syntax\n"
     ]
    }
   ],
   "source": [
    "print(\"Data Science\"):"
   ]
  },
  {
   "cell_type": "code",
   "execution_count": 71,
   "metadata": {},
   "outputs": [
    {
     "name": "stdout",
     "output_type": "stream",
     "text": [
      "My mark = 65 and my grade = CR\n"
     ]
    }
   ],
   "source": [
    "mark = 65\n",
    "grade = \"CR\"\n",
    "print('My mark = {0} and my grade = {1}'.format(mark,grade))\n"
   ]
  },
  {
   "cell_type": "code",
   "execution_count": 68,
   "metadata": {},
   "outputs": [
    {
     "data": {
      "text/plain": [
       "'P'"
      ]
     },
     "execution_count": 68,
     "metadata": {},
     "output_type": "execute_result"
    }
   ],
   "source": [
    "\"Python\"[0]"
   ]
  },
  {
   "cell_type": "code",
   "execution_count": 73,
   "metadata": {},
   "outputs": [
    {
     "name": "stdout",
     "output_type": "stream",
     "text": [
      "5 > 4\n"
     ]
    }
   ],
   "source": [
    "x = 5\n",
    "y = 4\n",
    "if x > y:\n",
    "    print('5 > 4')\n",
    "elif x < y:\n",
    "    print('5 < 4')\n",
    "else:\n",
    "    print('5 == 4')"
   ]
  },
  {
   "cell_type": "code",
   "execution_count": 74,
   "metadata": {},
   "outputs": [
    {
     "name": "stdout",
     "output_type": "stream",
     "text": [
      "s1 = Your mark is 99\n",
      "s2 = Your mark is 99\n"
     ]
    }
   ],
   "source": [
    "s = \"Hi there!\"\n",
    "#define function \n",
    "def get_mark(m):\n",
    "    global s\n",
    "    s = 'Your mark is ' + str(m)\n",
    "    print('s1 = ' + s)\n",
    "    return s\n",
    "# end of function\n",
    "get_mark(99)\n",
    "print('s2 = ' + s)"
   ]
  }
 ],
 "metadata": {
  "kernelspec": {
   "display_name": "Python 3",
   "language": "python",
   "name": "python3"
  },
  "language_info": {
   "codemirror_mode": {
    "name": "ipython",
    "version": 3
   },
   "file_extension": ".py",
   "mimetype": "text/x-python",
   "name": "python",
   "nbconvert_exporter": "python",
   "pygments_lexer": "ipython3",
   "version": "3.8.5"
  }
 },
 "nbformat": 4,
 "nbformat_minor": 4
}
